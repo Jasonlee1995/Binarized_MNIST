{
 "cells": [
  {
   "cell_type": "code",
   "execution_count": 1,
   "metadata": {},
   "outputs": [],
   "source": [
    "import numpy as np\n",
    "from PIL import Image"
   ]
  },
  {
   "cell_type": "code",
   "execution_count": 2,
   "metadata": {},
   "outputs": [],
   "source": [
    "train_dir = './dataset/binarized_mnist_train.amat'\n",
    "valid_dir = './dataset/binarized_mnist_valid.amat'\n",
    "test_dir = './dataset/binarized_mnist_test.amat'"
   ]
  },
  {
   "cell_type": "code",
   "execution_count": 3,
   "metadata": {},
   "outputs": [],
   "source": [
    "train_data = np.loadtxt(train_dir)\n",
    "valid_data = np.loadtxt(valid_dir)\n",
    "test_data = np.loadtxt(test_dir)"
   ]
  },
  {
   "cell_type": "code",
   "execution_count": 4,
   "metadata": {},
   "outputs": [],
   "source": [
    "datas = [train_data, valid_data, test_data]\n",
    "samples = [50000, 10000, 10000]"
   ]
  },
  {
   "cell_type": "code",
   "execution_count": 5,
   "metadata": {},
   "outputs": [],
   "source": [
    "for i, (data, sample) in enumerate(zip(datas, samples)):\n",
    "    if i == 0: save_dir = './dataset/train/'\n",
    "    elif i == 1: save_dir = './dataset/valid/'\n",
    "    else: save_dir = './dataset/test/'\n",
    "        \n",
    "    for j in range(sample):\n",
    "        file = (len(str(sample)) - len(str(j)))*'0' + str(j) + '.png'\n",
    "        img = Image.fromarray(data[j].reshape((28, 28))).convert('L')\n",
    "        img.save(save_dir + file)"
   ]
  }
 ],
 "metadata": {
  "kernelspec": {
   "display_name": "Python 3",
   "language": "python",
   "name": "python3"
  },
  "language_info": {
   "codemirror_mode": {
    "name": "ipython",
    "version": 3
   },
   "file_extension": ".py",
   "mimetype": "text/x-python",
   "name": "python",
   "nbconvert_exporter": "python",
   "pygments_lexer": "ipython3",
   "version": "3.6.9"
  }
 },
 "nbformat": 4,
 "nbformat_minor": 2
}
